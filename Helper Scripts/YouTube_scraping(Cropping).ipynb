{
 "cells": [
  {
   "cell_type": "markdown",
   "metadata": {},
   "source": [
    "## Youtube Video and Processing\n",
    "\n",
    "#### A short script to scrape short video clips from YouTube videos"
   ]
  },
  {
   "cell_type": "code",
   "execution_count": 5,
   "metadata": {},
   "outputs": [
    {
     "name": "stderr",
     "output_type": "stream",
     "text": [
      "ERROR:root:File `'startup.py'` not found.\n"
     ]
    }
   ],
   "source": [
    "#### start up inline plotting, all usual packages in \"startup\", plus any extras\n",
    "%matplotlib inline\n",
    "%run startup\n",
    "from skimage import transform\n",
    "import cv2\n",
    "import os\n",
    "import skimage\n",
    "import numpy as np\n",
    "from skimage import io\n",
    "from sklearn import cluster, datasets\n",
    "import pafy\n",
    "import pickle\n",
    "from moviepy.editor import VideoFileClip\n",
    "from moviepy.video.io.ffmpeg_tools import ffmpeg_extract_subclip\n",
    "import random\n",
    "import uuid"
   ]
  },
  {
   "cell_type": "markdown",
   "metadata": {
    "collapsed": true
   },
   "source": [
    "### Set up function to download youtube videos"
   ]
  },
  {
   "cell_type": "code",
   "execution_count": 6,
   "metadata": {},
   "outputs": [],
   "source": [
    "def download_youtube(fileurl, name):\n",
    "    '''fileurl = URL of the (youtube) video to be downloaded\n",
    "    name = name video will be saved to on computer'''\n",
    "    #check_redundancy(fileurl)    \n",
    "    ### https://pythonhosted.org/pafy/#stream-methods and https://pypi.python.org/pypi/pafy\n",
    "    v = pafy.new(fileurl)   ### uses URL provided to start to pafy instance\n",
    "    s = v.getbest()         ### gets best resolution for video at link\n",
    "    print(\"Size is %s\" % s.get_filesize())         ### provides filesize\n",
    "    fi = s.download(name+'.mp4') ### downloads video file to the videos folder\n",
    "    return fi"
   ]
  },
  {
   "cell_type": "markdown",
   "metadata": {
    "collapsed": true
   },
   "source": [
    " ### Function to extract interest clips from the video\n",
    " Saves clips with accidents (identified manually) to save files for training with model."
   ]
  },
  {
   "cell_type": "code",
   "execution_count": 7,
   "metadata": {},
   "outputs": [],
   "source": [
    "def extract_clips(videofile, t_start,t_end,video_type):\n",
    "    '''Function takes downloaded videos and cuts out clips of video to save and use for model training.\n",
    "    videofile = filepath to the video to read in\n",
    "    t_start = array of start times (in seconds) in video to be scraped\n",
    "    t_end = you know that ;)\n",
    "    video_type = name of file (for saving)\n",
    "\n",
    "    '''  \n",
    "    clip = VideoFileClip(videofile) \n",
    "    \n",
    "    \n",
    "    for index, start in enumerate(t_start): \n",
    "        print(index, start)\n",
    "        newclip = clip.subclip(t_start[index],t_end[index])\n",
    "        '''\n",
    "        Returns a clip playing the content of the current clip between times t_start and t_end, \n",
    "        which can be expressed in seconds (15.35), in (min, sec), in (hour, min, sec), or as a string: ‘01:03:05.35’.\n",
    "        If t_end is not provided, it is assumed to be the duration of the clip (potentially infinite). \n",
    "        If t_end is a negative value, it is reset to ``clip.duration + t_end. ``\n",
    "        '''\n",
    "        random= str(uuid.uuid4())\n",
    "        random = random.replace(\"-\",\"\")\n",
    "        name=random[0:6]\n",
    "        newclip.write_videofile(video_type+\"_\"+name+\".mp4\",audio=False) # don't render audio.  \n",
    "    \n",
    "    clip.reader.close()\n",
    "    clip.audio.reader.close_proc()\n",
    "    return    "
   ]
  },
  {
   "cell_type": "markdown",
   "metadata": {},
   "source": [
    "### Passing the video and the time slices of interest"
   ]
  },
  {
   "cell_type": "markdown",
   "metadata": {},
   "source": [
    "# Step 1 - Check if video is already in the playlist\n",
    "# Step 2 - Paste youtube video link"
   ]
  },
  {
   "cell_type": "code",
   "execution_count": 8,
   "metadata": {
    "scrolled": true
   },
   "outputs": [
    {
     "name": "stdout",
     "output_type": "stream",
     "text": [
      "Size is 89053613\n",
      "  89,053,613 Bytes [100.00%] received. Rate: [1634 KB/s].  ETA: [0 secs]    \r"
     ]
    },
    {
     "data": {
      "text/plain": [
       "'org_a6c800.mp4'"
      ]
     },
     "execution_count": 8,
     "metadata": {},
     "output_type": "execute_result"
    }
   ],
   "source": [
    "### Compilation video - multiple incidents in the main video\n",
    "random= str(uuid.uuid4())\n",
    "random = random.replace(\"-\",\"\")\n",
    "name=random[0:6]\n",
    "\n",
    "url='https://www.youtube.com/watch?v=_Y-zIbgKwWc&index=27&list=PLS1tJ5ZUDA-PXZbKC3hgVa9qfOvRWQEF1&pbjreload=10'     ### Paste URL here\n",
    "download_youtube(url, 'org_'+name)"
   ]
  },
  {
   "cell_type": "markdown",
   "metadata": {},
   "source": [
    "# Step 3 - Write all starting points and ending points together \n",
    "# Step 4 - Write Vehicle-vehicle or vehicle-guardrail etc"
   ]
  },
  {
   "cell_type": "code",
   "execution_count": 9,
   "metadata": {},
   "outputs": [
    {
     "name": "stdout",
     "output_type": "stream",
     "text": [
      "0 5\n",
      "[MoviePy] >>>> Building video NoAccident_b03a2b.mp4\n",
      "[MoviePy] Writing video NoAccident_b03a2b.mp4\n"
     ]
    },
    {
     "name": "stderr",
     "output_type": "stream",
     "text": [
      "100%|██████████████████████████████████████████| 90/90 [00:04<00:00, 18.36it/s]\n"
     ]
    },
    {
     "name": "stdout",
     "output_type": "stream",
     "text": [
      "[MoviePy] Done.\n",
      "[MoviePy] >>>> Video ready: NoAccident_b03a2b.mp4 \n",
      "\n",
      "1 51\n",
      "[MoviePy] >>>> Building video NoAccident_daf663.mp4\n",
      "[MoviePy] Writing video NoAccident_daf663.mp4\n"
     ]
    },
    {
     "name": "stderr",
     "output_type": "stream",
     "text": [
      "100%|████████████████████████████████████████| 120/120 [00:04<00:00, 27.78it/s]\n"
     ]
    },
    {
     "name": "stdout",
     "output_type": "stream",
     "text": [
      "[MoviePy] Done.\n",
      "[MoviePy] >>>> Video ready: NoAccident_daf663.mp4 \n",
      "\n",
      "2 55\n",
      "[MoviePy] >>>> Building video NoAccident_da9658.mp4\n",
      "[MoviePy] Writing video NoAccident_da9658.mp4\n"
     ]
    },
    {
     "name": "stderr",
     "output_type": "stream",
     "text": [
      "100%|████████████████████████████████████████| 150/150 [00:05<00:00, 26.98it/s]\n"
     ]
    },
    {
     "name": "stdout",
     "output_type": "stream",
     "text": [
      "[MoviePy] Done.\n",
      "[MoviePy] >>>> Video ready: NoAccident_da9658.mp4 \n",
      "\n",
      "3 100\n",
      "[MoviePy] >>>> Building video NoAccident_2e4750.mp4\n",
      "[MoviePy] Writing video NoAccident_2e4750.mp4\n"
     ]
    },
    {
     "name": "stderr",
     "output_type": "stream",
     "text": [
      "100%|████████████████████████████████████████| 120/120 [00:05<00:00, 21.99it/s]\n"
     ]
    },
    {
     "name": "stdout",
     "output_type": "stream",
     "text": [
      "[MoviePy] Done.\n",
      "[MoviePy] >>>> Video ready: NoAccident_2e4750.mp4 \n",
      "\n",
      "4 167\n",
      "[MoviePy] >>>> Building video NoAccident_4104ac.mp4\n",
      "[MoviePy] Writing video NoAccident_4104ac.mp4\n"
     ]
    },
    {
     "name": "stderr",
     "output_type": "stream",
     "text": [
      "100%|████████████████████████████████████████| 120/120 [00:05<00:00, 23.15it/s]\n"
     ]
    },
    {
     "name": "stdout",
     "output_type": "stream",
     "text": [
      "[MoviePy] Done.\n",
      "[MoviePy] >>>> Video ready: NoAccident_4104ac.mp4 \n",
      "\n",
      "5 171\n",
      "[MoviePy] >>>> Building video NoAccident_da97eb.mp4\n",
      "[MoviePy] Writing video NoAccident_da97eb.mp4\n"
     ]
    },
    {
     "name": "stderr",
     "output_type": "stream",
     "text": [
      "100%|████████████████████████████████████████| 120/120 [00:05<00:00, 22.24it/s]\n"
     ]
    },
    {
     "name": "stdout",
     "output_type": "stream",
     "text": [
      "[MoviePy] Done.\n",
      "[MoviePy] >>>> Video ready: NoAccident_da97eb.mp4 \n",
      "\n",
      "6 182\n",
      "[MoviePy] >>>> Building video NoAccident_4ae841.mp4\n",
      "[MoviePy] Writing video NoAccident_4ae841.mp4\n"
     ]
    },
    {
     "name": "stderr",
     "output_type": "stream",
     "text": [
      "100%|████████████████████████████████████████| 120/120 [00:05<00:00, 23.33it/s]\n"
     ]
    },
    {
     "name": "stdout",
     "output_type": "stream",
     "text": [
      "[MoviePy] Done.\n",
      "[MoviePy] >>>> Video ready: NoAccident_4ae841.mp4 \n",
      "\n",
      "7 186\n",
      "[MoviePy] >>>> Building video NoAccident_934e6d.mp4\n",
      "[MoviePy] Writing video NoAccident_934e6d.mp4\n"
     ]
    },
    {
     "name": "stderr",
     "output_type": "stream",
     "text": [
      "100%|████████████████████████████████████████| 120/120 [00:06<00:00, 19.88it/s]\n"
     ]
    },
    {
     "name": "stdout",
     "output_type": "stream",
     "text": [
      "[MoviePy] Done.\n",
      "[MoviePy] >>>> Video ready: NoAccident_934e6d.mp4 \n",
      "\n",
      "8 340\n",
      "[MoviePy] >>>> Building video NoAccident_757419.mp4\n",
      "[MoviePy] Writing video NoAccident_757419.mp4\n"
     ]
    },
    {
     "name": "stderr",
     "output_type": "stream",
     "text": [
      "100%|████████████████████████████████████████| 120/120 [00:05<00:00, 20.27it/s]\n"
     ]
    },
    {
     "name": "stdout",
     "output_type": "stream",
     "text": [
      "[MoviePy] Done.\n",
      "[MoviePy] >>>> Video ready: NoAccident_757419.mp4 \n",
      "\n",
      "9 352\n",
      "[MoviePy] >>>> Building video NoAccident_55239c.mp4\n",
      "[MoviePy] Writing video NoAccident_55239c.mp4\n"
     ]
    },
    {
     "name": "stderr",
     "output_type": "stream",
     "text": [
      "100%|██████████████████████████████████████████| 90/90 [00:05<00:00, 15.59it/s]\n"
     ]
    },
    {
     "name": "stdout",
     "output_type": "stream",
     "text": [
      "[MoviePy] Done.\n",
      "[MoviePy] >>>> Video ready: NoAccident_55239c.mp4 \n",
      "\n",
      "10 362\n",
      "[MoviePy] >>>> Building video NoAccident_1349fe.mp4\n",
      "[MoviePy] Writing video NoAccident_1349fe.mp4\n"
     ]
    },
    {
     "name": "stderr",
     "output_type": "stream",
     "text": [
      "100%|████████████████████████████████████████| 120/120 [00:07<00:00, 16.66it/s]\n"
     ]
    },
    {
     "name": "stdout",
     "output_type": "stream",
     "text": [
      "[MoviePy] Done.\n",
      "[MoviePy] >>>> Video ready: NoAccident_1349fe.mp4 \n",
      "\n",
      "11 378\n",
      "[MoviePy] >>>> Building video NoAccident_fe94ec.mp4\n",
      "[MoviePy] Writing video NoAccident_fe94ec.mp4\n"
     ]
    },
    {
     "name": "stderr",
     "output_type": "stream",
     "text": [
      "100%|████████████████████████████████████████| 120/120 [00:08<00:00, 14.70it/s]\n"
     ]
    },
    {
     "name": "stdout",
     "output_type": "stream",
     "text": [
      "[MoviePy] Done.\n",
      "[MoviePy] >>>> Video ready: NoAccident_fe94ec.mp4 \n",
      "\n",
      "12 476\n",
      "[MoviePy] >>>> Building video NoAccident_6f31e5.mp4\n",
      "[MoviePy] Writing video NoAccident_6f31e5.mp4\n"
     ]
    },
    {
     "name": "stderr",
     "output_type": "stream",
     "text": [
      "100%|████████████████████████████████████████| 150/150 [00:07<00:00, 19.10it/s]\n"
     ]
    },
    {
     "name": "stdout",
     "output_type": "stream",
     "text": [
      "[MoviePy] Done.\n",
      "[MoviePy] >>>> Video ready: NoAccident_6f31e5.mp4 \n",
      "\n"
     ]
    },
    {
     "data": {
      "text/plain": [
       "' If You encounter any error running this, just restart the kernel and run everything once again :) '"
      ]
     },
     "execution_count": 9,
     "metadata": {},
     "output_type": "execute_result"
    }
   ],
   "source": [
    "t_start = np.array([5,51,55,1*60+40,2*60+47,2*60+51,3*60+2,3*60+6, 5*60+40,5*60+52,6*60+2,6*60+18,7*60+56 ])            ### Enter starting time of clip1, clip2, clip3 so on..... \n",
    "t_end = np.array([ 8,55,1*60,1*60+44,2*60+51,2*60+55,3*60+6,3*60+10,5*60+44,5*60+55,6*60+6,6*60+22,8*60+1   ])            ### Enter enind time of clip1, clip2, clip3 so on.....                                                      \n",
    "extract_clips('org_'+name+'.mp4',t_start,t_end,'NoAccident')  ### Enter the type of incident Vehicle-Vehicle \n",
    "                                                            ### or Vehicle to gaurdrail \n",
    "                                                            ### Negative etc.,.\n",
    "    \n",
    "''' If You encounter any error running this, just restart the kernel and run everything once again :) '''"
   ]
  },
  {
   "cell_type": "code",
   "execution_count": null,
   "metadata": {},
   "outputs": [],
   "source": []
  }
 ],
 "metadata": {
  "kernelspec": {
   "display_name": "Python 3",
   "language": "python",
   "name": "python3"
  },
  "language_info": {
   "codemirror_mode": {
    "name": "ipython",
    "version": 3
   },
   "file_extension": ".py",
   "mimetype": "text/x-python",
   "name": "python",
   "nbconvert_exporter": "python",
   "pygments_lexer": "ipython3",
   "version": "3.6.1"
  }
 },
 "nbformat": 4,
 "nbformat_minor": 1
}
